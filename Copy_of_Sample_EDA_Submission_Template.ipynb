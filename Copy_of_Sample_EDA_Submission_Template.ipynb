{
  "nbformat": 4,
  "nbformat_minor": 0,
  "metadata": {
    "colab": {
      "private_outputs": true,
      "provenance": [],
      "collapsed_sections": [
        "w6K7xa23Elo4",
        "jj7wYXLtphqO",
        "eZrbJ2SmphqO",
        "rFu4xreNphqO",
        "ZWILFDl5p1ck",
        "M7G43BXep1ck",
        "E6MkPsBcp1cl",
        "2cELzS2fp1cl",
        "3MPXvC8up1cl",
        "gIfDvo9L0UH2"
      ],
      "include_colab_link": true
    },
    "kernelspec": {
      "name": "python3",
      "display_name": "Python 3"
    },
    "language_info": {
      "name": "python"
    }
  },
  "cells": [
    {
      "cell_type": "markdown",
      "metadata": {
        "id": "view-in-github",
        "colab_type": "text"
      },
      "source": [
        "<a href=\"https://colab.research.google.com/github/sahilasad321/EDA-on-Airbnb/blob/main/Copy_of_Sample_EDA_Submission_Template.ipynb\" target=\"_parent\"><img src=\"https://colab.research.google.com/assets/colab-badge.svg\" alt=\"Open In Colab\"/></a>"
      ]
    },
    {
      "cell_type": "markdown",
      "source": [
        "# **Project Name**    -  Airbnb Bookings Analysis\n",
        "\n"
      ],
      "metadata": {
        "id": "vncDsAP0Gaoa"
      }
    },
    {
      "cell_type": "markdown",
      "source": [
        "##### **Project Type**    - EDA :- Exploratory Data Analysis\n",
        "##### **Contribution**    - Team\n",
        "##### **Team Member 1 -**   Sahil Asad\n",
        "##### **Team Member 2 -** Aheli Some\n"
      ],
      "metadata": {
        "id": "beRrZCGUAJYm"
      }
    },
    {
      "cell_type": "markdown",
      "source": [
        "# **Project Summary -**"
      ],
      "metadata": {
        "id": "FJNUwmbgGyua"
      }
    },
    {
      "cell_type": "markdown",
      "source": [
        "This project aims to analyze Airbnb booking data to provide valuable insights for both hosts and guests. By examining historical data from Airbnb, we explore various factors influencing bookings, such as pricing, location, availability, and listing attributes. Our analysis uncovers patterns and trends that can guide hosts in optimizing their listings and help guests make informed decisions when booking accommodations. The results contribute to enhancing the Airbnb experience for both parties and fostering a more efficient and satisfying marketplace.\n",
        "\n",
        "To conduct this analysis, we collected a comprehensive dataset comprising historical Airbnb booking information from various cities and regions. The dataset includes information such as host name, neighbourhood group, prices, availability, guest reviews, and location attributes. Leveraging data science techniques, we performed exploratory data analysis, data cleaning, and data visualisation to gain valuable insights into the factors influencing bookings.\n",
        "\n",
        "The libraries that are used in the projects are :-\n",
        "\n",
        "\n",
        "1.   Pandas for data manipulation\n",
        "2.   Numpy for computational efficient operations.\n",
        "3.   Matplotlib and Seaborn for visualisation and analyzing the behaviour.\n",
        "\n",
        "\n",
        "##**Methodology:**\n",
        "\n",
        "**Data Collection:**\n",
        "The first step in the methodology was to collect a comprehensive dataset of Airbnb bookings. This dataset encompassed various cities and regions, providing a diverse range of properties and guest experiences. Data was obtained from Airbnb's official API and other publicly available sources, ensuring the reliability and authenticity of the information.\n",
        "\n",
        "**Data Preprocessing:**\n",
        "To ensure data accuracy and consistency, thorough preprocessing was conducted. This involved cleaning the dataset by removing any duplicate entries, handling missing values, and standardizing variables. Data normalization was also performed to bring all variables to a similar scale for more accurate analysis. Categorical variables were encoded using appropriate techniques such as one-hot encoding or label encoding.\n",
        "\n",
        "**Exploratory Data Analysis (EDA):**\n",
        "EDA was conducted to gain insights into the dataset and understand its characteristics. Various visualization techniques, such as histograms, scatter plots, and box plots, were employed to analyze the distribution, relationships, and patterns within the data. This step helped identify outliers, uncover trends, and explore potential correlations between variables.\n",
        "\n",
        "By combining these steps, valuable insights were derived, allowing hosts to optimize their listings, enhance guest satisfaction, and mitigate the environmental impact of their operations. The methodology laid the foundation for informed decision-making, contributing to the growth and sustainability of the Airbnb platform and its stakeholders.\n",
        "\n",
        "\n",
        "\n",
        "\n"
      ],
      "metadata": {
        "id": "F6v_1wHtG2nS"
      }
    },
    {
      "cell_type": "markdown",
      "source": [
        "# **GitHub Link -**"
      ],
      "metadata": {
        "id": "w6K7xa23Elo4"
      }
    },
    {
      "cell_type": "markdown",
      "source": [
        "Provide your GitHub Link here."
      ],
      "metadata": {
        "id": "h1o69JH3Eqqn"
      }
    },
    {
      "cell_type": "markdown",
      "source": [
        "# **Problem Statement**\n"
      ],
      "metadata": {
        "id": "yQaldy8SH6Dl"
      }
    },
    {
      "cell_type": "markdown",
      "source": [
        "\n",
        "1.   What we learn from our Airbnb dataset?\n",
        "2.   What manipulation can we do in our data?\n",
        "3. What are the maximum and minimum price of room ans its type according to area?\n",
        "4. Which location guests like the most?\n",
        "5. Does price of room have impact on reveiws given by people?\n",
        "6. Which host is the busiest?\n",
        "7. Which host is charging the highest price?\n",
        "8. What is the percentage of room type available in different neighbourhood group?\n",
        "9. Which location customers reviews the most?\n",
        "10. Which are the top hosts on the basis of monthly review?\n",
        "11. In which neighbourhood group the maximum bookings had happened?\n",
        "12. In which neighbouhood customers stays for maximum nights?\n",
        "\n",
        "\n"
      ],
      "metadata": {
        "id": "DpeJGUA3kjGy"
      }
    },
    {
      "cell_type": "markdown",
      "source": [
        "#### **Define Your Business Objective?**"
      ],
      "metadata": {
        "id": "PH-0ReGfmX4f"
      }
    },
    {
      "cell_type": "markdown",
      "source": [
        "Answer:- Our business objective is to get the useful insights from the given dataset and on the basis of those insights we should be able to tell us that what are the factors that customers are more driven to. We should be able to find out which location is popular among the customers and what is the reason behind that. Also from this insight we will try to find out that how our hosts are playing a crucial role in building our business. In this analysis we are more focused on customer behaviour, hosts, locality and type of room customers are preffering the most."
      ],
      "metadata": {
        "id": "PhDvGCAqmjP1"
      }
    },
    {
      "cell_type": "markdown",
      "source": [
        "# **General Guidelines** : -  "
      ],
      "metadata": {
        "id": "mDgbUHAGgjLW"
      }
    },
    {
      "cell_type": "markdown",
      "source": [
        "1.   Well-structured, formatted, and commented code is required.\n",
        "2.   Exception Handling, Production Grade Code & Deployment Ready Code will be a plus. Those students will be awarded some additional credits.\n",
        "     \n",
        "     The additional credits will have advantages over other students during Star Student selection.\n",
        "       \n",
        "             [ Note: - Deployment Ready Code is defined as, the whole .ipynb notebook should be executable in one go\n",
        "                       without a single error logged. ]\n",
        "\n",
        "3.   Each and every logic should have proper comments.\n",
        "4. You may add as many number of charts you want. Make Sure for each and every chart the following format should be answered.\n",
        "        \n",
        "\n",
        "```\n",
        "# Chart visualization code\n",
        "```\n",
        "            \n",
        "\n",
        "*   Why did you pick the specific chart?\n",
        "*   What is/are the insight(s) found from the chart?\n",
        "* Will the gained insights help creating a positive business impact?\n",
        "Are there any insights that lead to negative growth? Justify with specific reason.\n",
        "\n",
        "5. You have to create at least 20 logical & meaningful charts having important insights.\n",
        "\n",
        "\n",
        "[ Hints : - Do the Vizualization in  a structured way while following \"UBM\" Rule.\n",
        "\n",
        "U - Univariate Analysis,\n",
        "\n",
        "B - Bivariate Analysis (Numerical - Categorical, Numerical - Numerical, Categorical - Categorical)\n",
        "\n",
        "M - Multivariate Analysis\n",
        " ]\n",
        "\n",
        "\n",
        "\n"
      ],
      "metadata": {
        "id": "ZrxVaUj-hHfC"
      }
    },
    {
      "cell_type": "markdown",
      "source": [
        "# ***Let's Begin !***"
      ],
      "metadata": {
        "id": "O_i_v8NEhb9l"
      }
    },
    {
      "cell_type": "markdown",
      "source": [
        "## ***1. Know Your Data***"
      ],
      "metadata": {
        "id": "HhfV-JJviCcP"
      }
    },
    {
      "cell_type": "markdown",
      "source": [
        "### Import Libraries"
      ],
      "metadata": {
        "id": "Y3lxredqlCYt"
      }
    },
    {
      "cell_type": "code",
      "source": [
        "# Import Libraries\n",
        "import numpy as np\n",
        "import pandas as pd\n",
        "import matplotlib.pyplot as plt\n",
        "import seaborn as sns\n",
        "%matplotlib inline"
      ],
      "metadata": {
        "id": "M8Vqi-pPk-HR"
      },
      "execution_count": null,
      "outputs": []
    },
    {
      "cell_type": "markdown",
      "source": [
        "### Dataset Loading"
      ],
      "metadata": {
        "id": "3RnN4peoiCZX"
      }
    },
    {
      "cell_type": "code",
      "source": [
        "from google.colab import drive\n",
        "drive.mount('/content/drive')"
      ],
      "metadata": {
        "id": "DweO-d19Qx7O"
      },
      "execution_count": null,
      "outputs": []
    },
    {
      "cell_type": "code",
      "source": [
        "# Load Dataset\n",
        "airBnb = pd.read_csv(\"/content/drive/MyDrive/AlmaBetter Assignment files/Airbnb NYC 2019.csv\")\n"
      ],
      "metadata": {
        "id": "4CkvbW_SlZ_R"
      },
      "execution_count": null,
      "outputs": []
    },
    {
      "cell_type": "markdown",
      "source": [
        "### Dataset First View"
      ],
      "metadata": {
        "id": "x71ZqKXriCWQ"
      }
    },
    {
      "cell_type": "code",
      "source": [
        "# Dataset First Look\n",
        "airBnb"
      ],
      "metadata": {
        "id": "LWNFOSvLl09H"
      },
      "execution_count": null,
      "outputs": []
    },
    {
      "cell_type": "markdown",
      "source": [
        "### Dataset Rows & Columns count"
      ],
      "metadata": {
        "id": "7hBIi_osiCS2"
      }
    },
    {
      "cell_type": "code",
      "source": [
        "# Dataset Rows & Columns count\n",
        "airBnb.shape"
      ],
      "metadata": {
        "id": "Kllu7SJgmLij"
      },
      "execution_count": null,
      "outputs": []
    },
    {
      "cell_type": "markdown",
      "source": [
        "Our Dataset has 48895 rows and 16 columns."
      ],
      "metadata": {
        "id": "BZfp75g-SUxw"
      }
    },
    {
      "cell_type": "markdown",
      "source": [
        "### Dataset Information"
      ],
      "metadata": {
        "id": "JlHwYmJAmNHm"
      }
    },
    {
      "cell_type": "code",
      "source": [
        "# Dataset Info\n",
        "airBnb.info()"
      ],
      "metadata": {
        "id": "e9hRXRi6meOf"
      },
      "execution_count": null,
      "outputs": []
    },
    {
      "cell_type": "markdown",
      "source": [
        "By **.info()** we came to know that in our dataset these columns has null values in last_review, reviews_per_month, calculated_host_listings_count."
      ],
      "metadata": {
        "id": "_hFDH4AUTSH-"
      }
    },
    {
      "cell_type": "code",
      "source": [
        "airBnb.describe()"
      ],
      "metadata": {
        "id": "jV5rsNOYUVy7"
      },
      "execution_count": null,
      "outputs": []
    },
    {
      "cell_type": "markdown",
      "source": [
        "**.describe()** gives us the glimpse of our dataset, it gives the information of all the numerical columns that we have in our dataset.\n",
        "The column which we are most concerned about at this moment is the price column. By doing .describe() we came to know that our dataset has minimum price value as 0, which is quite unrealistic."
      ],
      "metadata": {
        "id": "xpGx-TRVUx5N"
      }
    },
    {
      "cell_type": "markdown",
      "source": [
        "#### Duplicate Values"
      ],
      "metadata": {
        "id": "35m5QtbWiB9F"
      }
    },
    {
      "cell_type": "code",
      "source": [
        "# Dataset Duplicate Value Count\n",
        "airBnb.drop_duplicates()"
      ],
      "metadata": {
        "id": "1sLdpKYkmox0"
      },
      "execution_count": null,
      "outputs": []
    },
    {
      "cell_type": "markdown",
      "source": [
        "By doing drop_duplicates() we are removing the duplicates rows in our dataset.\n",
        "But as we can see there are no duplicate values in our dataset."
      ],
      "metadata": {
        "id": "wgl8Ih-xXFo2"
      }
    },
    {
      "cell_type": "markdown",
      "source": [
        "#### Missing Values/Null Values"
      ],
      "metadata": {
        "id": "PoPl-ycgm1ru"
      }
    },
    {
      "cell_type": "code",
      "source": [
        "# Missing Values/Null Values Count\n",
        "airBnb.isnull()"
      ],
      "metadata": {
        "id": "GgHWkxvamxVg"
      },
      "execution_count": null,
      "outputs": []
    },
    {
      "cell_type": "markdown",
      "source": [
        "**.isnull()** will gives us a boolean output.\n",
        "If any value is missing it will return True otherwise gives False as output."
      ],
      "metadata": {
        "id": "az27lTbbZfxu"
      }
    },
    {
      "cell_type": "code",
      "source": [
        "# Visualizing the missing values\n",
        "airBnb.isnull().sum().sort_values(ascending = False)"
      ],
      "metadata": {
        "id": "3q5wnI3om9sJ"
      },
      "execution_count": null,
      "outputs": []
    },
    {
      "cell_type": "markdown",
      "source": [
        "Along with isnull() we have use .sum() to get the sum of null values in every column, and on top of that we have sorted the null values in descending order to get the clear visualization of null values.\n",
        "\n",
        "So, we can see that we have 4 columns that have null values in our dataset."
      ],
      "metadata": {
        "id": "rPkyRK7CaFzB"
      }
    },
    {
      "cell_type": "markdown",
      "source": [
        "### What did you know about your dataset?"
      ],
      "metadata": {
        "id": "H0kj-8xxnORC"
      }
    },
    {
      "cell_type": "markdown",
      "source": [
        "Uptill now, we came to know that our dataset contains 48895 rows and 16 columns. There are no duplicate values in our dataset. There are 4 columns which have null values and the columns associated with their respective null values are:-\n",
        "\n",
        "\n",
        "last_review = 10052,\n",
        "reviews_per_month = 10052,\n",
        "host_name = 21,\n",
        "name = 16"
      ],
      "metadata": {
        "id": "gfoNAAC-nUe_"
      }
    },
    {
      "cell_type": "markdown",
      "source": [
        "## ***2. Understanding Your Variables***"
      ],
      "metadata": {
        "id": "nA9Y7ga8ng1Z"
      }
    },
    {
      "cell_type": "code",
      "source": [
        "# Dataset Columns\n",
        "airBnb.columns"
      ],
      "metadata": {
        "id": "j7xfkqrt5Ag5"
      },
      "execution_count": null,
      "outputs": []
    },
    {
      "cell_type": "markdown",
      "source": [
        "**.column** will give the number of columns present in our dataset."
      ],
      "metadata": {
        "id": "cvxacTE2ceMd"
      }
    },
    {
      "cell_type": "code",
      "source": [
        "# Dataset Describe\n",
        "airBnb.describe()"
      ],
      "metadata": {
        "id": "DnOaZdaE5Q5t"
      },
      "execution_count": null,
      "outputs": []
    },
    {
      "cell_type": "markdown",
      "source": [
        "### Variables Description"
      ],
      "metadata": {
        "id": "PBTbrJXOngz2"
      }
    },
    {
      "cell_type": "markdown",
      "source": [
        "1. There are 16 variables in the Airbnb daatset. These are presented as columns in the dataset.\n",
        "2. The names are: id, name, host_id, host_name, neighbourhood_group, neighbourhood, latitude, longitude, room_type, price, minimum_nights, number_of_reviews, last_review, reviews_per_month,calculated_host_listings_count, availability_365\n",
        "3. This dataset contains heterogeneous datatypes.\n",
        "4. There are 4 variables (name, host_name, last_review, reviews_per_month) containing null or missing values."
      ],
      "metadata": {
        "id": "aJV4KIxSnxay"
      }
    },
    {
      "cell_type": "markdown",
      "source": [
        "### Check Unique Values for each variable."
      ],
      "metadata": {
        "id": "u3PMJOP6ngxN"
      }
    },
    {
      "cell_type": "code",
      "source": [
        "# Check Unique Values for each variable.\n",
        "print(\"The number of unique values are present for each column:\")  # the number of unique values for each column\n",
        "airBnb.nunique()"
      ],
      "metadata": {
        "id": "zms12Yq5n-jE"
      },
      "execution_count": null,
      "outputs": []
    },
    {
      "cell_type": "markdown",
      "source": [
        "## 3. ***Data Wrangling***"
      ],
      "metadata": {
        "id": "dauF4eBmngu3"
      }
    },
    {
      "cell_type": "markdown",
      "source": [
        "### Data Wrangling Code"
      ],
      "metadata": {
        "id": "bKJF3rekwFvQ"
      }
    },
    {
      "cell_type": "markdown",
      "source": [
        "## **(i) Room Type and their price according to area.**"
      ],
      "metadata": {
        "id": "T0yAT6qG-cwS"
      }
    },
    {
      "cell_type": "markdown",
      "source": [
        "(a) Maximum price according to area."
      ],
      "metadata": {
        "id": "_UVB5G2LBS7T"
      }
    },
    {
      "cell_type": "code",
      "source": [
        "# Write your code to make your dataset analysis ready.\n",
        "room_price_area_wise = airBnb.groupby([\"neighbourhood_group\",\"room_type\"])[\"price\"].max().reset_index()\n",
        "room_price_area_wise.sort_values(by = \"price\",ascending = False).head(10)"
      ],
      "metadata": {
        "id": "wk-9a2fpoLcV"
      },
      "execution_count": null,
      "outputs": []
    },
    {
      "cell_type": "markdown",
      "source": [
        "(b) Minimum price according to area."
      ],
      "metadata": {
        "id": "0KEgviw8BclZ"
      }
    },
    {
      "cell_type": "code",
      "source": [
        "room_price_area_wise = airBnb.groupby([\"neighbourhood_group\",\"room_type\"])[\"price\"].min().reset_index()\n",
        "room_price_area_wise.sort_values(by = \"price\",ascending = False).tail()"
      ],
      "metadata": {
        "id": "GLMm_2OUBhuk"
      },
      "execution_count": null,
      "outputs": []
    },
    {
      "cell_type": "markdown",
      "source": [
        "So, here we can see that the prices for the above rooms are 0, which is practically not possible."
      ],
      "metadata": {
        "id": "1MiT0qmXCN8B"
      }
    },
    {
      "cell_type": "code",
      "source": [
        "airBnb = airBnb[airBnb[\"price\"] > 0]\n",
        "airBnb"
      ],
      "metadata": {
        "id": "BN2UetPQCZ_6"
      },
      "execution_count": null,
      "outputs": []
    },
    {
      "cell_type": "code",
      "source": [
        "room_price_area_wise = airBnb.groupby([\"neighbourhood_group\",\"room_type\"])[\"price\"].min().reset_index()\n",
        "room_price_area_wise.sort_values(by = \"price\",ascending = False).tail()"
      ],
      "metadata": {
        "id": "DnUd_6yUDW6j"
      },
      "execution_count": null,
      "outputs": []
    },
    {
      "cell_type": "markdown",
      "source": [
        "Now, we can see that we have sliced our dataset on the basis of price so that price should be greater than 0.\n",
        "So we can see that now the minimum price is 10."
      ],
      "metadata": {
        "id": "GRFQb7FpDe-L"
      }
    },
    {
      "cell_type": "code",
      "source": [
        "host_minNights = airBnb.groupby([\"host_id\",\"host_name\"])[\"minimum_nights\"].sum().reset_index\n",
        "host_minNights"
      ],
      "metadata": {
        "id": "NMHKfNLiDzxq"
      },
      "execution_count": null,
      "outputs": []
    },
    {
      "cell_type": "markdown",
      "source": [
        "Here we can see that, we have done a groupby to find out which hosts along with host ID has stayed for how many nights."
      ],
      "metadata": {
        "id": "2y2v7llgHIEt"
      }
    },
    {
      "cell_type": "markdown",
      "source": [
        "### What all manipulations have you done and insights you found?"
      ],
      "metadata": {
        "id": "MSa1f5Uengrz"
      }
    },
    {
      "cell_type": "markdown",
      "source": [
        "\n",
        "\n",
        "1.   Analyzed the data and found the maximum price for the type of room and in which neighbourhood.\n",
        "2.   Found the minimum price for the type of room and in which neighbourhood group.\n",
        "3.We found that for various rooms the minimum price in dataset is 0. So, we have done the slicing of our dataset and keeps the values whose minimum price is greater than 0.\n",
        "4. Then we found out that the minimum price is 10 and the maximum price is 10000.\n",
        "5. We also found out that which host stays for how many nights along with its host ID.\n",
        "\n",
        "\n",
        "\n"
      ],
      "metadata": {
        "id": "LbyXE7I1olp8"
      }
    },
    {
      "cell_type": "markdown",
      "source": [
        "## ***4. Data Vizualization, Storytelling & Experimenting with charts : Understand the relationships between variables***"
      ],
      "metadata": {
        "id": "GF8Ens_Soomf"
      }
    },
    {
      "cell_type": "markdown",
      "source": [
        "#### Chart - 1"
      ],
      "metadata": {
        "id": "0wOQAZs5pc--"
      }
    },
    {
      "cell_type": "code",
      "source": [
        "print(airBnb[\"neighbourhood_group\"].unique())"
      ],
      "metadata": {
        "id": "mVcTIwSuLclz"
      },
      "execution_count": null,
      "outputs": []
    },
    {
      "cell_type": "code",
      "source": [
        "neighbourhood_group = ['Brooklyn' ,'Manhattan', 'Queens','Manhattan','Brooklyn','Staten Island','Queens','Bronx','Queens','Bronx']\n",
        "room_type = ['Entire home/apt','Entire home/apt','Private room','Private room','Private room','Entire home/apt','Entire home/apt','Private room','Shared room','Entire home/apt']\n",
        "\n",
        "room_dict = {}\n",
        "\n",
        "for i in room_type:\n",
        "  room_dict[i] = room_dict.get(i,0) + 1\n",
        "\n",
        "plt.bar(room_dict.keys(),room_dict.values(),color = 'green',edgecolor = 'red')\n",
        "plt.title('Room Types')\n",
        "plt.xlabel('Room Type')\n",
        "plt.ylabel('Count')\n",
        "plt.show()\n"
      ],
      "metadata": {
        "id": "v4EpsGC4GOwf"
      },
      "execution_count": null,
      "outputs": []
    },
    {
      "cell_type": "markdown",
      "source": [
        "##### 1. Why did you pick the specific chart?\n",
        "\n",
        "We have picked this Bar chart to show the comparison between the three types of room. We choose bar chart because it is easy to understand the insights through it."
      ],
      "metadata": {
        "id": "K5QZ13OEpz2H"
      }
    },
    {
      "cell_type": "markdown",
      "source": [
        "Answer Here."
      ],
      "metadata": {
        "id": "XESiWehPqBRc"
      }
    },
    {
      "cell_type": "markdown",
      "source": [
        "##### 2. What is/are the insight(s) found from the chart?"
      ],
      "metadata": {
        "id": "lQ7QKXXCp7Bj"
      }
    },
    {
      "cell_type": "markdown",
      "source": [
        "Answer:- The above bar chart is made by taking the maximum price for the type of rooms. And we can clearly see that among the top 10 highest price room type, people prefer to have entire home/apartment then the private room and they prefer least the shared room."
      ],
      "metadata": {
        "id": "C_j1G7yiqdRP"
      }
    },
    {
      "cell_type": "markdown",
      "source": [
        "##### 3. Will the gained insights help creating a positive business impact?\n",
        "Are there any insights that lead to negative growth? Justify with specific reason."
      ],
      "metadata": {
        "id": "448CDAPjqfQr"
      }
    },
    {
      "cell_type": "markdown",
      "source": [
        "Answer:- Yes, above insights helps creating a positive business impact because we can clearly see that people prefer to spend more on entire home/apartment and they are least likely to spend on shared room.\n",
        "\n",
        "There are no negative insights."
      ],
      "metadata": {
        "id": "3cspy4FjqxJW"
      }
    },
    {
      "cell_type": "markdown",
      "source": [
        "#### Chart - 2\n",
        "\n",
        "So, in this chart we are gonna focus on the reviews given by the people depending on the type of location."
      ],
      "metadata": {
        "id": "KSlN3yHqYklG"
      }
    },
    {
      "cell_type": "code",
      "source": [
        "reviews_by_area = airBnb.groupby(['neighbourhood_group'])['number_of_reviews'].max().reset_index()\n",
        "reviews_by_area"
      ],
      "metadata": {
        "id": "R4YgtaqtYklH"
      },
      "execution_count": null,
      "outputs": []
    },
    {
      "cell_type": "code",
      "source": [
        "area = reviews_by_area[\"neighbourhood_group\"]\n",
        "review = reviews_by_area[\"number_of_reviews\"]\n",
        "\n",
        "fig = plt.figure(figsize=(10,5))\n",
        "plt.bar(area,review,color = \"red\",width = 0.5)\n",
        "plt.xlabel(\"Area\")\n",
        "plt.ylabel(\"Review\")\n",
        "plt.title(\"Number of Reviews According to Area\")\n",
        "plt.show()"
      ],
      "metadata": {
        "id": "SySXXUSmPsIk"
      },
      "execution_count": null,
      "outputs": []
    },
    {
      "cell_type": "markdown",
      "source": [
        "##### 1. Why did you pick the specific chart?"
      ],
      "metadata": {
        "id": "t6dVpIINYklI"
      }
    },
    {
      "cell_type": "markdown",
      "source": [
        "Answer:- We have chosen this Bar chart because it shows the clear comparison that which of the location receives the most number of reviews."
      ],
      "metadata": {
        "id": "5aaW0BYyYklI"
      }
    },
    {
      "cell_type": "markdown",
      "source": [
        "##### 2. What is/are the insight(s) found from the chart?"
      ],
      "metadata": {
        "id": "ijmpgYnKYklI"
      }
    },
    {
      "cell_type": "markdown",
      "source": [
        "Answer:- The insight that is gained from the graph is that Queens have received the most number of reviews and Bronx have received the least number of reviews. So, by these reviews we can get a clear understanding that the location which is getting higher reviews is doing great and we can gain insights from the Queens location to improve review of Bronx location."
      ],
      "metadata": {
        "id": "PSx9atu2YklI"
      }
    },
    {
      "cell_type": "markdown",
      "source": [
        "##### 3. Will the gained insights help creating a positive business impact?\n",
        "Are there any insights that lead to negative growth? Justify with specific reason."
      ],
      "metadata": {
        "id": "-JiQyfWJYklI"
      }
    },
    {
      "cell_type": "markdown",
      "source": [
        "Answer:- Yes, with the help of reviews company can found that what people are liking in the location which are getting higher reviews and on the basis of that they can make improved decision to perform better at the location where they are getting low reviews.\n",
        "\n",
        "There are no negative impact from these observations."
      ],
      "metadata": {
        "id": "BcBbebzrYklV"
      }
    },
    {
      "cell_type": "markdown",
      "source": [
        "#### Chart - 3\n",
        "\n",
        "**In this chart we are focusing on the reviews given by people depending onto the price of the room.**"
      ],
      "metadata": {
        "id": "EM7whBJCYoAo"
      }
    },
    {
      "cell_type": "code",
      "source": [
        "# Chart - 3 visualization code\n",
        "airBnb = airBnb[airBnb[\"price\"] > 0]\n",
        "price_review = airBnb.groupby([\"price\"])[\"number_of_reviews\"].max().reset_index()\n",
        "price_review\n"
      ],
      "metadata": {
        "id": "t6GMdE67YoAp"
      },
      "execution_count": null,
      "outputs": []
    },
    {
      "cell_type": "code",
      "source": [
        "price_list = price_review[\"price\"]\n",
        "review = price_review[\"number_of_reviews\"]\n",
        "\n",
        "\n",
        "fig = plt.figure(figsize=(10,5))\n",
        "plt.scatter(price_list,review)\n",
        "plt.xlabel(\"Price\")\n",
        "plt.ylabel(\"Reviews\")\n",
        "plt.title(\"Price V/s Reviews\")\n",
        "plt.show"
      ],
      "metadata": {
        "id": "lxy3-NVZVqtU"
      },
      "execution_count": null,
      "outputs": []
    },
    {
      "cell_type": "markdown",
      "source": [
        "##### 1. Why did you pick the specific chart?"
      ],
      "metadata": {
        "id": "fge-S5ZAYoAp"
      }
    },
    {
      "cell_type": "markdown",
      "source": [
        "Answer:-\n",
        "We have picked the scatter plot because it gives a clear understanding that where the density of variables are high and where it is low."
      ],
      "metadata": {
        "id": "5dBItgRVYoAp"
      }
    },
    {
      "cell_type": "markdown",
      "source": [
        "##### 2. What is/are the insight(s) found from the chart?"
      ],
      "metadata": {
        "id": "85gYPyotYoAp"
      }
    },
    {
      "cell_type": "markdown",
      "source": [
        "Answer:- The insights that we gained from the graph is that people like to stay at the places where prices are low."
      ],
      "metadata": {
        "id": "4jstXR6OYoAp"
      }
    },
    {
      "cell_type": "markdown",
      "source": [
        "##### 3. Will the gained insights help creating a positive business impact?\n",
        "Are there any insights that lead to negative growth? Justify with specific reason."
      ],
      "metadata": {
        "id": "RoGjAbkUYoAp"
      }
    },
    {
      "cell_type": "markdown",
      "source": [
        "Answer:- Yes, these insights helps us to make a positive business impact. This helps us to know our customers best and what prices are likely to be offered to them so they are comfortable to book rooms and provide good reviews."
      ],
      "metadata": {
        "id": "zfJ8IqMcYoAp"
      }
    },
    {
      "cell_type": "markdown",
      "source": [
        "#### Chart - 4\n",
        "In this chart we are checking for the busiest host."
      ],
      "metadata": {
        "id": "4Of9eVA-YrdM"
      }
    },
    {
      "cell_type": "code",
      "source": [
        "# Chart - 4 visualization code\n",
        "busy_hosts = airBnb.groupby(['host_id','host_name','room_type'])[\"number_of_reviews\"].max().reset_index()\n",
        "busy_hosts = busy_hosts.sort_values(by = \"number_of_reviews\",ascending = False).head(10)\n",
        "busy_hosts"
      ],
      "metadata": {
        "id": "irlUoxc8YrdO"
      },
      "execution_count": null,
      "outputs": []
    },
    {
      "cell_type": "code",
      "source": [
        "name_host = busy_hosts[\"host_name\"]\n",
        "review = busy_hosts[\"number_of_reviews\"]\n",
        "fig = plt.figure(figsize = (10,5))\n",
        "\n",
        "plt.bar(name_host,review,color = \"blue\",width = 0.5)\n",
        "plt.xlabel(\"Host Name\")\n",
        "plt.ylabel(\"Reviews\")\n",
        "plt.title(\"Busiest Host V/s Reviews\")\n",
        "plt.show()"
      ],
      "metadata": {
        "id": "MfflX9faZn9c"
      },
      "execution_count": null,
      "outputs": []
    },
    {
      "cell_type": "markdown",
      "source": [
        "##### 1. Why did you pick the specific chart?"
      ],
      "metadata": {
        "id": "iky9q4vBYrdO"
      }
    },
    {
      "cell_type": "markdown",
      "source": [
        "Answer:- We have picked the Bar chart to compare different host on the basis of maximum reviews they got. We have chosen Bar Chart because it shows a clear insight of the data."
      ],
      "metadata": {
        "id": "aJRCwT6DYrdO"
      }
    },
    {
      "cell_type": "markdown",
      "source": [
        "##### 2. What is/are the insight(s) found from the chart?"
      ],
      "metadata": {
        "id": "F6T5p64dYrdO"
      }
    },
    {
      "cell_type": "markdown",
      "source": [
        "Answer: We have found that the host name Dona has got the maximum number of reviews for its private room. And we have also found out that the most number of reviews are given for Private room."
      ],
      "metadata": {
        "id": "Xx8WAJvtYrdO"
      }
    },
    {
      "cell_type": "markdown",
      "source": [],
      "metadata": {
        "id": "O0VtDDKWcaoJ"
      }
    },
    {
      "cell_type": "markdown",
      "source": [
        "##### 3. Will the gained insights help creating a positive business impact?\n",
        "Are there any insights that lead to negative growth? Justify with specific reason."
      ],
      "metadata": {
        "id": "y-Ehk30pYrdP"
      }
    },
    {
      "cell_type": "markdown",
      "source": [
        "Answer:- Yes, the insights will have positive business impact because we can see from the above analysis that most reviews are given to host Dona and also we got an insight that private rooms receive most number of reveiws.\n",
        "\n",
        "No, there is no negative impact."
      ],
      "metadata": {
        "id": "jLNxxz7MYrdP"
      }
    },
    {
      "cell_type": "markdown",
      "source": [
        "#### Chart - 5\n",
        "\n",
        "Hosts charging higher prices."
      ],
      "metadata": {
        "id": "bamQiAODYuh1"
      }
    },
    {
      "cell_type": "code",
      "source": [
        "# Chart - 5 visualization code\n",
        "\n",
        "highest_price = airBnb.groupby([\"host_id\",\"host_name\",\"room_type\",\"neighbourhood_group\"])[\"price\"].max().reset_index()\n",
        "highest_price = highest_price.sort_values(by = \"price\",ascending = False).head(10)\n",
        "highest_price"
      ],
      "metadata": {
        "id": "TIJwrbroYuh3"
      },
      "execution_count": null,
      "outputs": []
    },
    {
      "cell_type": "code",
      "source": [
        "name_of_host = highest_price[\"host_name\"]\n",
        "price_charged = highest_price[\"price\"]\n",
        "\n",
        "fig = plt.figure(figsize = (10,5))\n",
        "plt.bar(name_of_host,price_charged,color = \"purple\",width = 0.5)\n",
        "plt.xlabel(\"Name of Host\")\n",
        "plt.ylabel(\"Price\")\n",
        "plt.title(\"Host V/s Price Charged\")\n",
        "plt.show()"
      ],
      "metadata": {
        "id": "wYbOvAd3di60"
      },
      "execution_count": null,
      "outputs": []
    },
    {
      "cell_type": "markdown",
      "source": [
        "##### 1. Why did you pick the specific chart?"
      ],
      "metadata": {
        "id": "QHF8YVU7Yuh3"
      }
    },
    {
      "cell_type": "markdown",
      "source": [
        "Answer:- We have picked bar chart to compare difference hosts on the basis of the maximum prices that they offer.\n",
        "Bar chart shows us the clear comparison between different hosts."
      ],
      "metadata": {
        "id": "dcxuIMRPYuh3"
      }
    },
    {
      "cell_type": "markdown",
      "source": [
        "##### 2. What is/are the insight(s) found from the chart?"
      ],
      "metadata": {
        "id": "GwzvFGzlYuh3"
      }
    },
    {
      "cell_type": "markdown",
      "source": [
        "Answer:- Erin,Jelena and Kathrine are the top three hosts that charges the highest which is 10000 dollars.\n",
        "And above graphs shows the top 10 hosts who charges the highest."
      ],
      "metadata": {
        "id": "uyqkiB8YYuh3"
      }
    },
    {
      "cell_type": "markdown",
      "source": [
        "##### 3. Will the gained insights help creating a positive business impact?\n",
        "Are there any insights that lead to negative growth? Justify with specific reason."
      ],
      "metadata": {
        "id": "qYpmQ266Yuh3"
      }
    },
    {
      "cell_type": "markdown",
      "source": [
        "Answer:- These insights helps us to know the behaviour of the host. By this we can recommend these hosts to those customers who can afford these hosts."
      ],
      "metadata": {
        "id": "_WtzZ_hCYuh4"
      }
    },
    {
      "cell_type": "markdown",
      "source": [
        "#### Chart - 6\n",
        "**In this chart we are finding out that which neighbourhood group has which type of rooms and in what percentage.**"
      ],
      "metadata": {
        "id": "OH-pJp9IphqM"
      }
    },
    {
      "cell_type": "code",
      "source": [
        "# Chart - 6 visualization code\n",
        "\n",
        "plt.rcParams[\"figure.figsize\"] = (8,5)\n",
        "ax = sns.countplot(y = \"room_type\" , hue = \"neighbourhood_group\", data = airBnb, palette = \"bright\")\n",
        "\n",
        "total = len(airBnb[\"room_type\"])\n",
        "for p in ax.patches:\n",
        "  percentage = '{:.1f}%'.format(100 * p.get_width()/total)\n",
        "  x = p.get_x() + p.get_width() + 0.02\n",
        "  y = p.get_y() + p.get_height()/2\n",
        "  ax.annotate(percentage,(x,y))\n",
        "\n",
        "plt.title(\"Count of each room type in NYC\")\n",
        "plt.xlabel(\"rooms\")\n",
        "plt.xticks(rotation = 90)\n",
        "plt.ylabel(\"Room Counts\")\n",
        "\n",
        "plt.show()"
      ],
      "metadata": {
        "id": "kuRf4wtuphqN"
      },
      "execution_count": null,
      "outputs": []
    },
    {
      "cell_type": "markdown",
      "source": [
        "##### 1. Why did you pick the specific chart?"
      ],
      "metadata": {
        "id": "bbFf2-_FphqN"
      }
    },
    {
      "cell_type": "markdown",
      "source": [
        "Answer:- We have picked this countchart to show a clear comparison in percentage of various room types in various neighbourhood groups."
      ],
      "metadata": {
        "id": "loh7H2nzphqN"
      }
    },
    {
      "cell_type": "markdown",
      "source": [
        "##### 2. What is/are the insight(s) found from the chart?"
      ],
      "metadata": {
        "id": "_ouA3fa0phqN"
      }
    },
    {
      "cell_type": "markdown",
      "source": [
        "Answer:- The insights that we gain from the plot is that in Brooklyn most properties are listed as private rooms(i.e. 20.7%).\n",
        "But in Manhattan most properties are listed as entire home/apartment.\n",
        "Whereas their are very few shared rooms in all the neighbourhood group."
      ],
      "metadata": {
        "id": "VECbqPI7phqN"
      }
    },
    {
      "cell_type": "markdown",
      "source": [
        "##### 3. Will the gained insights help creating a positive business impact?\n",
        "Are there any insights that lead to negative growth? Justify with specific reason."
      ],
      "metadata": {
        "id": "Seke61FWphqN"
      }
    },
    {
      "cell_type": "markdown",
      "source": [
        "Answer:- This observation will definetely create a positive impact because company can easily see that in which neighbourhood group they have which type of property and according to that it can recommend those properties to its customer. Also if company wants to expand its business they will be much aware that which type of rooms are limited in a particular loocation, so that it can provide that type of property.\n",
        "There is no negative impact because this observation is giving a clear overview of the business that in which location it has which type of room."
      ],
      "metadata": {
        "id": "DW4_bGpfphqN"
      }
    },
    {
      "cell_type": "markdown",
      "source": [
        "#### Chart - 7\n",
        "In this chart we are finding the best location on the basis of monthly reviews."
      ],
      "metadata": {
        "id": "PIIx-8_IphqN"
      }
    },
    {
      "cell_type": "code",
      "source": [
        "# Chart - 7 visualization code\n",
        "# Find the chart of Location based on Review Score\n",
        "fig = plt.figure(figsize=(12,4))\n",
        "top_5_location = airBnb.groupby([\"neighbourhood_group\"])[\"reviews_per_month\"].max().reset_index()\n",
        "top = top_5_location.sort_values(by=\"reviews_per_month\",ascending=False).head(5)\n",
        "sns.barplot(x=\"neighbourhood_group\", y=\"reviews_per_month\", data= top)\n",
        "plt.title('Location and Review Score')\n",
        "plt.ylabel('reviews_per_month')\n",
        "plt.xlabel('Neighbourhood Group')\n",
        "plt.show()"
      ],
      "metadata": {
        "id": "lqAIGUfyphqO"
      },
      "execution_count": null,
      "outputs": []
    },
    {
      "cell_type": "markdown",
      "source": [
        "##### 1. Why did you pick the specific chart?"
      ],
      "metadata": {
        "id": "t27r6nlMphqO"
      }
    },
    {
      "cell_type": "markdown",
      "source": [
        "Answer :- We have chosen this bar chart because we need to show the reviews for different neighbourhood group. So, by using bar chart all the neighbourhood groups are quite distinguishable."
      ],
      "metadata": {
        "id": "iv6ro40sphqO"
      }
    },
    {
      "cell_type": "markdown",
      "source": [
        "##### 2. What is/are the insight(s) found from the chart?"
      ],
      "metadata": {
        "id": "r2jJGEOYphqO"
      }
    },
    {
      "cell_type": "markdown",
      "source": [
        "Answer:- With this chart, we can state that the most preferable location as per customer's choice are: 1. Manhattan 2. Queens 3. Brooklyn."
      ],
      "metadata": {
        "id": "Po6ZPi4hphqO"
      }
    },
    {
      "cell_type": "markdown",
      "source": [
        "##### 3. Will the gained insights help creating a positive business impact?\n",
        "Are there any insights that lead to negative growth? Justify with specific reason."
      ],
      "metadata": {
        "id": "b0JNsNcRphqO"
      }
    },
    {
      "cell_type": "markdown",
      "source": [
        "Answer:- The company gets the overview of the customer's choice for location so that it can improve its service."
      ],
      "metadata": {
        "id": "xvSq8iUTphqO"
      }
    },
    {
      "cell_type": "markdown",
      "source": [
        "#### Chart - 8\n",
        "**In this chart we are finding the  top hosts on the basis of monthly review.**"
      ],
      "metadata": {
        "id": "BZR9WyysphqO"
      }
    },
    {
      "cell_type": "code",
      "source": [
        "# Chart - 8 visualization code\n",
        "# Based on the review score find the top 5 Host\n",
        "fig = plt.figure(figsize=(12,4))\n",
        "top_5_host = airBnb.groupby([\"host_name\",\"host_id\"])[\"reviews_per_month\"].max().reset_index()\n",
        "top = top_5_host.sort_values(by=\"reviews_per_month\",ascending=False).head(5)\n",
        "sns.barplot(x=\"host_name\", y=\"reviews_per_month\", data= top)\n",
        "plt.title('host_name and Review Score')\n",
        "plt.ylabel('reviews_per_month')\n",
        "plt.xlabel('host_name')\n",
        "plt.show()"
      ],
      "metadata": {
        "id": "TdPTWpAVphqO"
      },
      "execution_count": null,
      "outputs": []
    },
    {
      "cell_type": "markdown",
      "source": [
        "##### 1. Why did you pick the specific chart?"
      ],
      "metadata": {
        "id": "jj7wYXLtphqO"
      }
    },
    {
      "cell_type": "markdown",
      "source": [
        "Answer:- Based on the review score we plot, who is our top 5 Host, this increases the confidence of tourist before booking."
      ],
      "metadata": {
        "id": "Ob8u6rCTphqO"
      }
    },
    {
      "cell_type": "markdown",
      "source": [
        "##### 2. What is/are the insight(s) found from the chart?"
      ],
      "metadata": {
        "id": "eZrbJ2SmphqO"
      }
    },
    {
      "cell_type": "markdown",
      "source": [
        "Answer:- We can state that the top 5 host are: Row NYC, Louann, Nalicia, Danielle and Brent based upon customer's review per month."
      ],
      "metadata": {
        "id": "mZtgC_hjphqO"
      }
    },
    {
      "cell_type": "markdown",
      "source": [
        "##### 3. Will the gained insights help creating a positive business impact?\n",
        "Are there any insights that lead to negative growth? Justify with specific reason."
      ],
      "metadata": {
        "id": "rFu4xreNphqO"
      }
    },
    {
      "cell_type": "markdown",
      "source": [
        "Answer:- Yes, it will create a positive impact. It will also let the customer know that which host has the highest rating and according to that they can choose their stay."
      ],
      "metadata": {
        "id": "ey_0qi68phqO"
      }
    },
    {
      "cell_type": "markdown",
      "source": [
        "#### Chart - 9\n",
        "**This chart is for univariate analysis, it gives us the overview of the bookings that had happen in different neighbourhood group.**"
      ],
      "metadata": {
        "id": "YJ55k-q6phqO"
      }
    },
    {
      "cell_type": "code",
      "source": [
        "# Chart - 9 visualization code\n",
        "#Maximum booking based upon meighbourhood_group and neighbourhood\n",
        "df = airBnb[\"neighbourhood_group\"].value_counts()\n",
        "df.plot(kind='pie',figsize=(8, 8),colors = ['orange', 'pink', 'crimson', 'lightgreen', 'black'])\n",
        "plt.show()"
      ],
      "metadata": {
        "id": "B2aS4O1ophqO"
      },
      "execution_count": null,
      "outputs": []
    },
    {
      "cell_type": "markdown",
      "source": [
        "##### 1. Why did you pick the specific chart?"
      ],
      "metadata": {
        "id": "gCFgpxoyphqP"
      }
    },
    {
      "cell_type": "markdown",
      "source": [
        "Answer:-We are presenting this pie chart to state the overall idea of the most preferable places (neighbourhood_group)."
      ],
      "metadata": {
        "id": "TVxDimi2phqP"
      }
    },
    {
      "cell_type": "markdown",
      "source": [
        "##### 2. What is/are the insight(s) found from the chart?"
      ],
      "metadata": {
        "id": "OVtJsKN_phqQ"
      }
    },
    {
      "cell_type": "markdown",
      "source": [
        "Answer:- We can state that the maximum no of bookings are made for Manhattan, Brooklyn and Queens. It's pretty obvious that both Manhattan and Brookly are famous for tourism."
      ],
      "metadata": {
        "id": "ngGi97qjphqQ"
      }
    },
    {
      "cell_type": "markdown",
      "source": [
        "##### 3. Will the gained insights help creating a positive business impact?\n",
        "Are there any insights that lead to negative growth? Justify with specific reason."
      ],
      "metadata": {
        "id": "lssrdh5qphqQ"
      }
    },
    {
      "cell_type": "markdown",
      "source": [
        "Answer:- The company can get an overall idea which neighbourhood-group the customer prefer most.As we can see that the most number of bookings had happened in Manhattan and Brooklyn. Company can improve its services or exapand its business in these locations.\n"
      ],
      "metadata": {
        "id": "tBpY5ekJphqQ"
      }
    },
    {
      "cell_type": "markdown",
      "source": [
        "#### Chart - 10\n",
        "**This Chart tells us about the maximum nights stayed in which neighbourhood.**"
      ],
      "metadata": {
        "id": "U2RJ9gkRphqQ"
      }
    },
    {
      "cell_type": "code",
      "source": [
        "# Chart - 10 visualization code\n",
        "# Top 5 of locality (neighbourhood) listed based upon maximum nights stayed by the customer\n",
        "top_5_location = airBnb.groupby([\"neighbourhood\"])[\"minimum_nights\"].max().reset_index()\n",
        "top = top_5_location.sort_values(by=\"minimum_nights\",ascending=False).head(5)\n",
        "fig = plt.figure(figsize=(12,4))\n",
        "sns.barplot(x=\"neighbourhood\", y=\"minimum_nights\", data= top)\n",
        "plt.title('Neighbourhood and minimum_nights')\n",
        "plt.ylabel('Minimum_nights')\n",
        "plt.xlabel('Neighbourhood')\n",
        "plt.show()"
      ],
      "metadata": {
        "id": "GM7a4YP4phqQ"
      },
      "execution_count": null,
      "outputs": []
    },
    {
      "cell_type": "markdown",
      "source": [
        "##### 1. Why did you pick the specific chart?"
      ],
      "metadata": {
        "id": "1M8mcRywphqQ"
      }
    },
    {
      "cell_type": "markdown",
      "source": [
        "Answer:- We are presenting the chart distribution for top 5 locality (neighbourhood) listed based upon maximum nights stayed by the customers to get an overview of customer's preference regarding the neighbourhood of the neighbourhood group."
      ],
      "metadata": {
        "id": "8agQvks0phqQ"
      }
    },
    {
      "cell_type": "markdown",
      "source": [
        "##### 2. What is/are the insight(s) found from the chart?"
      ],
      "metadata": {
        "id": "tgIPom80phqQ"
      }
    },
    {
      "cell_type": "markdown",
      "source": [
        "Answer:- We can state that the top 5 neighbourhood are:\n",
        "\n",
        "1. Greenwich Village 2. Battery Park City 3. Williamsburg 4. Harlem 5. Crown Heights"
      ],
      "metadata": {
        "id": "Qp13pnNzphqQ"
      }
    },
    {
      "cell_type": "markdown",
      "source": [
        "##### 3. Will the gained insights help creating a positive business impact?\n",
        "Are there any insights that lead to negative growth? Justify with specific reason."
      ],
      "metadata": {
        "id": "JMzcOPDDphqR"
      }
    },
    {
      "cell_type": "markdown",
      "source": [
        "Answer:- The company can get the idea regarding the best locality or neighbourhood according to the customer's choice."
      ],
      "metadata": {
        "id": "R4Ka1PC2phqR"
      }
    },
    {
      "cell_type": "markdown",
      "source": [
        "#### Chart - 11\n",
        "\n",
        "**This Chart gives us information about the top 5 neighbourhood on the basis of monthly review.**"
      ],
      "metadata": {
        "id": "x-EpHcCOp1ci"
      }
    },
    {
      "cell_type": "code",
      "source": [
        "# Chart - 11 visualization code\n",
        "# Top 5 of locality (neighbourhood) listed based upon review\n",
        "top_5_loc_review = airBnb.groupby([\"neighbourhood\"])[\"reviews_per_month\"].max().reset_index()\n",
        "top = top_5_loc_review.sort_values(by=\"reviews_per_month\",ascending=False).head(5)\n",
        "fig = plt.figure(figsize=(12,4))\n",
        "sns.barplot(x=\"neighbourhood\", y=\"reviews_per_month\", data= top)\n",
        "plt.title('Neighbourhood and reviews_per_month')\n",
        "plt.ylabel('Reviews_per_month')\n",
        "plt.xlabel('Neighbourhood')\n",
        "plt.show()"
      ],
      "metadata": {
        "id": "mAQTIvtqp1cj"
      },
      "execution_count": null,
      "outputs": []
    },
    {
      "cell_type": "markdown",
      "source": [
        "##### 1. Why did you pick the specific chart?"
      ],
      "metadata": {
        "id": "X_VqEhTip1ck"
      }
    },
    {
      "cell_type": "markdown",
      "source": [
        "Answer :- This bar chart will help us to present our observation in the best manner. We are presenting the bar chart distribution of Top 5 of locality (neighbourhood) listed based upon review per month of the customer."
      ],
      "metadata": {
        "id": "-vsMzt_np1ck"
      }
    },
    {
      "cell_type": "markdown",
      "source": [
        "##### 2. What is/are the insight(s) found from the chart?"
      ],
      "metadata": {
        "id": "8zGJKyg5p1ck"
      }
    },
    {
      "cell_type": "markdown",
      "source": [
        "Answer:- We can state that the best locality or neighbourhood is Theater District based upon customer's review per month."
      ],
      "metadata": {
        "id": "ZYdMsrqVp1ck"
      }
    },
    {
      "cell_type": "markdown",
      "source": [
        "##### 3. Will the gained insights help creating a positive business impact?\n",
        "Are there any insights that lead to negative growth? Justify with specific reason."
      ],
      "metadata": {
        "id": "PVzmfK_Ep1ck"
      }
    },
    {
      "cell_type": "markdown",
      "source": [
        "Answer:- The company gets an idea regarding the good locations as per customer's choice based upon customer's review."
      ],
      "metadata": {
        "id": "druuKYZpp1ck"
      }
    },
    {
      "cell_type": "markdown",
      "source": [
        "#### Chart - 12\n",
        "**This chart tells us about the total no of nights as per location.**"
      ],
      "metadata": {
        "id": "n3dbpmDWp1ck"
      }
    },
    {
      "cell_type": "code",
      "source": [
        "# Chart - 12 visualization code\n",
        "# Find total no of nights as per location::\n",
        "\n",
        "import seaborn\n",
        "sns.barplot(x=\"neighbourhood_group\",y=\"minimum_nights\",data=airBnb)\n",
        "plt.show()"
      ],
      "metadata": {
        "id": "bwevp1tKp1ck"
      },
      "execution_count": null,
      "outputs": []
    },
    {
      "cell_type": "markdown",
      "source": [
        "##### 1. Why did you pick the specific chart?"
      ],
      "metadata": {
        "id": "ylSl6qgtp1ck"
      }
    },
    {
      "cell_type": "markdown",
      "source": [
        "Answer:- We have done this specific Bar Daigram to show the overall idea of the customer's preference for location by presenting the graphical distribution of total no of minimum nights spent as per the location (neighbourhood group)."
      ],
      "metadata": {
        "id": "m2xqNkiQp1ck"
      }
    },
    {
      "cell_type": "markdown",
      "source": [
        "##### 2. What is/are the insight(s) found from the chart?"
      ],
      "metadata": {
        "id": "ZWILFDl5p1ck"
      }
    },
    {
      "cell_type": "markdown",
      "source": [
        "Answer:- With this chart, we can find the top 5 location compared to other locations where the customer made the most bookings.\n",
        "\n",
        "We can state that the most preferable locations for night stay as per customer's choice are: 1.Manhattan; 2.Brooklyn; 3.Queens; 4.Staten Island; 5.Bronx"
      ],
      "metadata": {
        "id": "x-lUsV2mp1ck"
      }
    },
    {
      "cell_type": "markdown",
      "source": [
        "##### 3. Will the gained insights help creating a positive business impact?\n",
        "Are there any insights that lead to negative growth? Justify with specific reason."
      ],
      "metadata": {
        "id": "M7G43BXep1ck"
      }
    },
    {
      "cell_type": "markdown",
      "source": [
        "Answer:- With this chart, the company can identify the customer's preferable location."
      ],
      "metadata": {
        "id": "5wwDJXsLp1cl"
      }
    },
    {
      "cell_type": "markdown",
      "source": [
        "#### Chart - 13\n",
        "**This chart gives the total number of nights spend per room types**."
      ],
      "metadata": {
        "id": "Ag9LCva-p1cl"
      }
    },
    {
      "cell_type": "code",
      "source": [
        "# Chart - 13 visualization code\n",
        "# Find the total of nights spend per room types:\n",
        "import seaborn\n",
        "sns.barplot(y=\"minimum_nights\",x=\"room_type\",data=airBnb)\n",
        "plt.show()"
      ],
      "metadata": {
        "id": "EUfxeq9-p1cl"
      },
      "execution_count": null,
      "outputs": []
    },
    {
      "cell_type": "markdown",
      "source": [
        "##### 1. Why did you pick the specific chart?"
      ],
      "metadata": {
        "id": "E6MkPsBcp1cl"
      }
    },
    {
      "cell_type": "markdown",
      "source": [
        "Answer :- We have done this specific Bar Daigram to show the overall idea of the customer's preference for room_type by presenting the graphical distribution of total no of minimum nights spent as per room type."
      ],
      "metadata": {
        "id": "V22bRsFWp1cl"
      }
    },
    {
      "cell_type": "markdown",
      "source": [
        "##### 2. What is/are the insight(s) found from the chart?"
      ],
      "metadata": {
        "id": "2cELzS2fp1cl"
      }
    },
    {
      "cell_type": "markdown",
      "source": [
        "Answer :- With this chart, we can state that the most preferable room type for minimum number of night-stay as per customer's choice are: 1.Entire home/apt; 2.Shared room; 3.Private toom."
      ],
      "metadata": {
        "id": "ozQPc2_Ip1cl"
      }
    },
    {
      "cell_type": "markdown",
      "source": [
        "##### 3. Will the gained insights help creating a positive business impact?\n",
        "Are there any insights that lead to negative growth? Justify with specific reason."
      ],
      "metadata": {
        "id": "3MPXvC8up1cl"
      }
    },
    {
      "cell_type": "markdown",
      "source": [
        "Answer :- With this chart, the company can identify which room type are preferred by the customer based upon the minimum night stay (number of nights)."
      ],
      "metadata": {
        "id": "GL8l1tdLp1cl"
      }
    },
    {
      "cell_type": "markdown",
      "source": [
        "#### Chart - 14 - Correlation Heatmap"
      ],
      "metadata": {
        "id": "NC_X3p0fY2L0"
      }
    },
    {
      "cell_type": "code",
      "source": [
        "# Correlation Heatmap visualization code\n",
        "corr = airBnb.corr(method = \"kendall\")\n",
        "fig = plt.figure(figsize = (12,6))\n",
        "sns.heatmap(corr,annot = True)\n",
        "airBnb.columns"
      ],
      "metadata": {
        "id": "xyC9zolEZNRQ"
      },
      "execution_count": null,
      "outputs": []
    },
    {
      "cell_type": "markdown",
      "source": [
        "##### 1. Why did you pick the specific chart?"
      ],
      "metadata": {
        "id": "UV0SzAkaZNRQ"
      }
    },
    {
      "cell_type": "markdown",
      "source": [
        "Answer :- We have used the correlation chart to get to know how each variable is dependent or related to the other variable."
      ],
      "metadata": {
        "id": "DVPuT8LYZNRQ"
      }
    },
    {
      "cell_type": "markdown",
      "source": [
        "##### 2. What is/are the insight(s) found from the chart?"
      ],
      "metadata": {
        "id": "YPEH6qLeZNRQ"
      }
    },
    {
      "cell_type": "markdown",
      "source": [
        "Answer:- The insights we gain is that, as we can see price is positively correlated to the minimum nights.Calculated host listings count has a positive correlation with availability 356."
      ],
      "metadata": {
        "id": "bfSqtnDqZNRR"
      }
    },
    {
      "cell_type": "markdown",
      "source": [
        "#### Chart - 15 - Pair Plot"
      ],
      "metadata": {
        "id": "q29F0dvdveiT"
      }
    },
    {
      "cell_type": "code",
      "source": [
        "# Pair Plot visualization code\n",
        "sns.pairplot(airBnb,hue = \"room_type\")\n",
        "plt.show()"
      ],
      "metadata": {
        "id": "o58-TEIhveiU"
      },
      "execution_count": null,
      "outputs": []
    },
    {
      "cell_type": "code",
      "source": [
        "sns.pairplot(airBnb,hue = \"room_type\",x_vars = [\"price\",\"neighbourhood_group\",\"number_of_reviews\"],y_vars = [\"number_of_reviews\",\"reviews_per_month\"])\n",
        "plt.show()"
      ],
      "metadata": {
        "id": "eWCkYkx0MLCT"
      },
      "execution_count": null,
      "outputs": []
    },
    {
      "cell_type": "markdown",
      "source": [
        "##### 1. Why did you pick the specific chart?"
      ],
      "metadata": {
        "id": "EXh0U9oCveiU"
      }
    },
    {
      "cell_type": "markdown",
      "source": [
        "Answer:- The pairplot function in seaborn allows us to create a matrix of scatter plots, where each scatter plot compares a pair of variables from a given dataset. The x_vars and y_vars parameters in this context represent lists of variable names that we want to use for the rows and columns of the scatter plot matrix."
      ],
      "metadata": {
        "id": "eMmPjTByveiU"
      }
    },
    {
      "cell_type": "markdown",
      "source": [
        "##### 2. What is/are the insight(s) found from the chart?"
      ],
      "metadata": {
        "id": "22aHeOlLveiV"
      }
    },
    {
      "cell_type": "markdown",
      "source": [
        "Answer:- We got a clear insight regarding the price and number of reviews. As we can see the comparison between these two variables tells us that, the review count is more when the prices are less."
      ],
      "metadata": {
        "id": "uPQ8RGwHveiV"
      }
    },
    {
      "cell_type": "markdown",
      "source": [
        "## **5. Solution to Business Objective**"
      ],
      "metadata": {
        "id": "JcMwzZxoAimU"
      }
    },
    {
      "cell_type": "markdown",
      "source": [
        "#### What do you suggest the client to achieve Business Objective ?\n",
        "Explain Briefly."
      ],
      "metadata": {
        "id": "8G2x9gOozGDZ"
      }
    },
    {
      "cell_type": "markdown",
      "source": [
        "Answer:- From the above analysis we came to know that people are highly influenced by the price and people prefer to stay at low prices. So, to client should focus on providing rooms within the range of 2000.\n",
        "\n",
        "Also we came to know that people prefer to stay in private rooms and they least prefer to stay in shared rooms. So, the client should give more focus on private room. People also showed up interest in booking entire home/apt. so there is also scope of increasing business by linking with hosts that are ready to offer entire home/apt.\n",
        "\n",
        "Manhattan is the location where people like to stay most. And in Manhattan people like to stay in entire home/apt. , so the client should focus on providing the required property to the people booking rooms in Manhattan.\n",
        "While in Brooklyn people prefer to have private room. So, the client should focus on providing private properties in Brooklyn.\n",
        "\n"
      ],
      "metadata": {
        "id": "pASKb0qOza21"
      }
    },
    {
      "cell_type": "markdown",
      "source": [
        "# **Conclusion**"
      ],
      "metadata": {
        "id": "gCX9965dhzqZ"
      }
    },
    {
      "cell_type": "markdown",
      "source": [
        "1. The highest price of the property is 10000. There are three properties that offer 10000 price. In Brooklyn and Manhattan its the Entire home/apt. and in Queens its a Private room.\n",
        "2. Top three hosts charging the highest price are Erin, Jelena, Kathrine.\n",
        "\n",
        "3. When we analyze the neighbourhood group on the basis of reviews we found out that Queens have received the most number of reviews and Bronx have received the least number of reviews.\n",
        "\n",
        "4. The analysis which is done on the price basis tells us that people prefer to stay at those locations where the price is below 2000.\n",
        "\n",
        "5. We have found from our analysis that the top three busiest hosts are Dona, Jj and Maya and they all offer Private room.\n",
        "\n",
        "6. We have found that the maximum private room are in Brooklyn(20.7%). Maximum entire home/apt are in Manhattan(27%) and shared rooms are comaparably less in every location.\n",
        "\n",
        "7. Customers have liked the property of Manhattan the most as they have reviewed it the highest.\n",
        "\n",
        "8. Among the neighbourhood, people have stayed the maximum nights in Greenwich Village folowed by Battery Park City and WilliamsBurg.\n",
        "\n",
        "9. Among the various neighbourhood , Theater District haev received the most monthly reviews."
      ],
      "metadata": {
        "id": "Fjb1IsQkh3yE"
      }
    },
    {
      "cell_type": "markdown",
      "source": [
        "### ***Hurrah! You have successfully completed your EDA Capstone Project !!!***"
      ],
      "metadata": {
        "id": "gIfDvo9L0UH2"
      }
    }
  ]
}